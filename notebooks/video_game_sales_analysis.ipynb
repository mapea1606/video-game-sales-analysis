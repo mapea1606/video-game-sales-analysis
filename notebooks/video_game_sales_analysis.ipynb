{
 "cells": [
  {
   "cell_type": "markdown",
   "id": "b97276ee-a591-4b1a-93e2-a324002840b4",
   "metadata": {},
   "source": [
    "# Video Game Sales Data Analysis\n",
    "\n",
    "### **Project Goal**\n",
    "The goal of this project is to explore and analyze a dataset of video game sales to uncover key insights. We will focus on identifying trends in sales over time, examining which genres and platforms are most popular, and investigating the performance of top publishers.\n",
    "\n",
    "### **Dataset**\n",
    "The dataset used is the \"Video Game Sales\" dataset from Kaggle, containing sales data for over 16,500 games."
   ]
  },
  {
   "cell_type": "code",
   "execution_count": 6,
   "id": "7c71d6ec-09bc-459b-ac1f-2d883c76de62",
   "metadata": {},
   "outputs": [],
   "source": [
    "import pandas as pd\n",
    "import numpy as np"
   ]
  },
  {
   "cell_type": "code",
   "execution_count": 7,
   "id": "10d3d83e-95b3-42c5-839e-e751d808e8c4",
   "metadata": {},
   "outputs": [],
   "source": [
    "# Load the dataset.\n",
    "df = pd.read_csv('../data/raw/vgsales.csv')"
   ]
  },
  {
   "cell_type": "markdown",
   "id": "1ef670ac-1b18-4450-b833-3e345ff53240",
   "metadata": {},
   "source": [
    "## 1. Data Exploration and Initial Inspection\n",
    "In this section, we will load the dataset, perform an initial inspection to understand its structure, and handle any missing or inconsistent data."
   ]
  },
  {
   "cell_type": "code",
   "execution_count": 8,
   "id": "c1276be9-5814-4093-8feb-23fe2c41419f",
   "metadata": {},
   "outputs": [
    {
     "data": {
      "text/html": [
       "<div>\n",
       "<style scoped>\n",
       "    .dataframe tbody tr th:only-of-type {\n",
       "        vertical-align: middle;\n",
       "    }\n",
       "\n",
       "    .dataframe tbody tr th {\n",
       "        vertical-align: top;\n",
       "    }\n",
       "\n",
       "    .dataframe thead th {\n",
       "        text-align: right;\n",
       "    }\n",
       "</style>\n",
       "<table border=\"1\" class=\"dataframe\">\n",
       "  <thead>\n",
       "    <tr style=\"text-align: right;\">\n",
       "      <th></th>\n",
       "      <th>Rank</th>\n",
       "      <th>Name</th>\n",
       "      <th>Platform</th>\n",
       "      <th>Year</th>\n",
       "      <th>Genre</th>\n",
       "      <th>Publisher</th>\n",
       "      <th>NA_Sales</th>\n",
       "      <th>EU_Sales</th>\n",
       "      <th>JP_Sales</th>\n",
       "      <th>Other_Sales</th>\n",
       "      <th>Global_Sales</th>\n",
       "    </tr>\n",
       "  </thead>\n",
       "  <tbody>\n",
       "    <tr>\n",
       "      <th>0</th>\n",
       "      <td>1</td>\n",
       "      <td>Wii Sports</td>\n",
       "      <td>Wii</td>\n",
       "      <td>2006.0</td>\n",
       "      <td>Sports</td>\n",
       "      <td>Nintendo</td>\n",
       "      <td>41.49</td>\n",
       "      <td>29.02</td>\n",
       "      <td>3.77</td>\n",
       "      <td>8.46</td>\n",
       "      <td>82.74</td>\n",
       "    </tr>\n",
       "    <tr>\n",
       "      <th>1</th>\n",
       "      <td>2</td>\n",
       "      <td>Super Mario Bros.</td>\n",
       "      <td>NES</td>\n",
       "      <td>1985.0</td>\n",
       "      <td>Platform</td>\n",
       "      <td>Nintendo</td>\n",
       "      <td>29.08</td>\n",
       "      <td>3.58</td>\n",
       "      <td>6.81</td>\n",
       "      <td>0.77</td>\n",
       "      <td>40.24</td>\n",
       "    </tr>\n",
       "    <tr>\n",
       "      <th>2</th>\n",
       "      <td>3</td>\n",
       "      <td>Mario Kart Wii</td>\n",
       "      <td>Wii</td>\n",
       "      <td>2008.0</td>\n",
       "      <td>Racing</td>\n",
       "      <td>Nintendo</td>\n",
       "      <td>15.85</td>\n",
       "      <td>12.88</td>\n",
       "      <td>3.79</td>\n",
       "      <td>3.31</td>\n",
       "      <td>35.82</td>\n",
       "    </tr>\n",
       "    <tr>\n",
       "      <th>3</th>\n",
       "      <td>4</td>\n",
       "      <td>Wii Sports Resort</td>\n",
       "      <td>Wii</td>\n",
       "      <td>2009.0</td>\n",
       "      <td>Sports</td>\n",
       "      <td>Nintendo</td>\n",
       "      <td>15.75</td>\n",
       "      <td>11.01</td>\n",
       "      <td>3.28</td>\n",
       "      <td>2.96</td>\n",
       "      <td>33.00</td>\n",
       "    </tr>\n",
       "    <tr>\n",
       "      <th>4</th>\n",
       "      <td>5</td>\n",
       "      <td>Pokemon Red/Pokemon Blue</td>\n",
       "      <td>GB</td>\n",
       "      <td>1996.0</td>\n",
       "      <td>Role-Playing</td>\n",
       "      <td>Nintendo</td>\n",
       "      <td>11.27</td>\n",
       "      <td>8.89</td>\n",
       "      <td>10.22</td>\n",
       "      <td>1.00</td>\n",
       "      <td>31.37</td>\n",
       "    </tr>\n",
       "  </tbody>\n",
       "</table>\n",
       "</div>"
      ],
      "text/plain": [
       "   Rank                      Name Platform    Year         Genre Publisher  \\\n",
       "0     1                Wii Sports      Wii  2006.0        Sports  Nintendo   \n",
       "1     2         Super Mario Bros.      NES  1985.0      Platform  Nintendo   \n",
       "2     3            Mario Kart Wii      Wii  2008.0        Racing  Nintendo   \n",
       "3     4         Wii Sports Resort      Wii  2009.0        Sports  Nintendo   \n",
       "4     5  Pokemon Red/Pokemon Blue       GB  1996.0  Role-Playing  Nintendo   \n",
       "\n",
       "   NA_Sales  EU_Sales  JP_Sales  Other_Sales  Global_Sales  \n",
       "0     41.49     29.02      3.77         8.46         82.74  \n",
       "1     29.08      3.58      6.81         0.77         40.24  \n",
       "2     15.85     12.88      3.79         3.31         35.82  \n",
       "3     15.75     11.01      3.28         2.96         33.00  \n",
       "4     11.27      8.89     10.22         1.00         31.37  "
      ]
     },
     "execution_count": 8,
     "metadata": {},
     "output_type": "execute_result"
    }
   ],
   "source": [
    "# Display the first five rows in the DataFrame\n",
    "df.head()"
   ]
  },
  {
   "cell_type": "code",
   "execution_count": 9,
   "id": "34d2691c-c74b-4e8f-91e2-d9ad495dda88",
   "metadata": {},
   "outputs": [
    {
     "name": "stdout",
     "output_type": "stream",
     "text": [
      "<class 'pandas.core.frame.DataFrame'>\n",
      "RangeIndex: 16598 entries, 0 to 16597\n",
      "Data columns (total 11 columns):\n",
      " #   Column        Non-Null Count  Dtype  \n",
      "---  ------        --------------  -----  \n",
      " 0   Rank          16598 non-null  int64  \n",
      " 1   Name          16598 non-null  object \n",
      " 2   Platform      16598 non-null  object \n",
      " 3   Year          16327 non-null  float64\n",
      " 4   Genre         16598 non-null  object \n",
      " 5   Publisher     16540 non-null  object \n",
      " 6   NA_Sales      16598 non-null  float64\n",
      " 7   EU_Sales      16598 non-null  float64\n",
      " 8   JP_Sales      16598 non-null  float64\n",
      " 9   Other_Sales   16598 non-null  float64\n",
      " 10  Global_Sales  16598 non-null  float64\n",
      "dtypes: float64(6), int64(1), object(4)\n",
      "memory usage: 1.4+ MB\n"
     ]
    }
   ],
   "source": [
    "# Get a summary of the DataFrame\n",
    "df.info()"
   ]
  },
  {
   "cell_type": "code",
   "execution_count": 10,
   "id": "785dbb4d-4516-4db4-9940-2fd9ae761ea4",
   "metadata": {},
   "outputs": [
    {
     "data": {
      "text/html": [
       "<div>\n",
       "<style scoped>\n",
       "    .dataframe tbody tr th:only-of-type {\n",
       "        vertical-align: middle;\n",
       "    }\n",
       "\n",
       "    .dataframe tbody tr th {\n",
       "        vertical-align: top;\n",
       "    }\n",
       "\n",
       "    .dataframe thead th {\n",
       "        text-align: right;\n",
       "    }\n",
       "</style>\n",
       "<table border=\"1\" class=\"dataframe\">\n",
       "  <thead>\n",
       "    <tr style=\"text-align: right;\">\n",
       "      <th></th>\n",
       "      <th>Rank</th>\n",
       "      <th>Year</th>\n",
       "      <th>NA_Sales</th>\n",
       "      <th>EU_Sales</th>\n",
       "      <th>JP_Sales</th>\n",
       "      <th>Other_Sales</th>\n",
       "      <th>Global_Sales</th>\n",
       "    </tr>\n",
       "  </thead>\n",
       "  <tbody>\n",
       "    <tr>\n",
       "      <th>count</th>\n",
       "      <td>16598.000000</td>\n",
       "      <td>16327.000000</td>\n",
       "      <td>16598.000000</td>\n",
       "      <td>16598.000000</td>\n",
       "      <td>16598.000000</td>\n",
       "      <td>16598.000000</td>\n",
       "      <td>16598.000000</td>\n",
       "    </tr>\n",
       "    <tr>\n",
       "      <th>mean</th>\n",
       "      <td>8300.605254</td>\n",
       "      <td>2006.406443</td>\n",
       "      <td>0.264667</td>\n",
       "      <td>0.146652</td>\n",
       "      <td>0.077782</td>\n",
       "      <td>0.048063</td>\n",
       "      <td>0.537441</td>\n",
       "    </tr>\n",
       "    <tr>\n",
       "      <th>std</th>\n",
       "      <td>4791.853933</td>\n",
       "      <td>5.828981</td>\n",
       "      <td>0.816683</td>\n",
       "      <td>0.505351</td>\n",
       "      <td>0.309291</td>\n",
       "      <td>0.188588</td>\n",
       "      <td>1.555028</td>\n",
       "    </tr>\n",
       "    <tr>\n",
       "      <th>min</th>\n",
       "      <td>1.000000</td>\n",
       "      <td>1980.000000</td>\n",
       "      <td>0.000000</td>\n",
       "      <td>0.000000</td>\n",
       "      <td>0.000000</td>\n",
       "      <td>0.000000</td>\n",
       "      <td>0.010000</td>\n",
       "    </tr>\n",
       "    <tr>\n",
       "      <th>25%</th>\n",
       "      <td>4151.250000</td>\n",
       "      <td>2003.000000</td>\n",
       "      <td>0.000000</td>\n",
       "      <td>0.000000</td>\n",
       "      <td>0.000000</td>\n",
       "      <td>0.000000</td>\n",
       "      <td>0.060000</td>\n",
       "    </tr>\n",
       "    <tr>\n",
       "      <th>50%</th>\n",
       "      <td>8300.500000</td>\n",
       "      <td>2007.000000</td>\n",
       "      <td>0.080000</td>\n",
       "      <td>0.020000</td>\n",
       "      <td>0.000000</td>\n",
       "      <td>0.010000</td>\n",
       "      <td>0.170000</td>\n",
       "    </tr>\n",
       "    <tr>\n",
       "      <th>75%</th>\n",
       "      <td>12449.750000</td>\n",
       "      <td>2010.000000</td>\n",
       "      <td>0.240000</td>\n",
       "      <td>0.110000</td>\n",
       "      <td>0.040000</td>\n",
       "      <td>0.040000</td>\n",
       "      <td>0.470000</td>\n",
       "    </tr>\n",
       "    <tr>\n",
       "      <th>max</th>\n",
       "      <td>16600.000000</td>\n",
       "      <td>2020.000000</td>\n",
       "      <td>41.490000</td>\n",
       "      <td>29.020000</td>\n",
       "      <td>10.220000</td>\n",
       "      <td>10.570000</td>\n",
       "      <td>82.740000</td>\n",
       "    </tr>\n",
       "  </tbody>\n",
       "</table>\n",
       "</div>"
      ],
      "text/plain": [
       "               Rank          Year      NA_Sales      EU_Sales      JP_Sales  \\\n",
       "count  16598.000000  16327.000000  16598.000000  16598.000000  16598.000000   \n",
       "mean    8300.605254   2006.406443      0.264667      0.146652      0.077782   \n",
       "std     4791.853933      5.828981      0.816683      0.505351      0.309291   \n",
       "min        1.000000   1980.000000      0.000000      0.000000      0.000000   \n",
       "25%     4151.250000   2003.000000      0.000000      0.000000      0.000000   \n",
       "50%     8300.500000   2007.000000      0.080000      0.020000      0.000000   \n",
       "75%    12449.750000   2010.000000      0.240000      0.110000      0.040000   \n",
       "max    16600.000000   2020.000000     41.490000     29.020000     10.220000   \n",
       "\n",
       "        Other_Sales  Global_Sales  \n",
       "count  16598.000000  16598.000000  \n",
       "mean       0.048063      0.537441  \n",
       "std        0.188588      1.555028  \n",
       "min        0.000000      0.010000  \n",
       "25%        0.000000      0.060000  \n",
       "50%        0.010000      0.170000  \n",
       "75%        0.040000      0.470000  \n",
       "max       10.570000     82.740000  "
      ]
     },
     "execution_count": 10,
     "metadata": {},
     "output_type": "execute_result"
    }
   ],
   "source": [
    "# Generate descriptive statistics for numerical columns\n",
    "df.describe()"
   ]
  },
  {
   "cell_type": "code",
   "execution_count": 11,
   "id": "dfc82b37-a36c-4ff8-9e23-ddaac26d67c2",
   "metadata": {},
   "outputs": [],
   "source": [
    "# Create a copy of the DataFrame to work with\n",
    "df_cleaned = df.copy()"
   ]
  },
  {
   "cell_type": "code",
   "execution_count": 12,
   "id": "2c0f750e-be17-4a0e-9573-51e98c9008f7",
   "metadata": {},
   "outputs": [],
   "source": [
    "# Remove the rows with missing values in \"Year\" or \"Publisher\"\n",
    "df_cleaned = df_cleaned.dropna(subset=['Year', 'Publisher'])"
   ]
  },
  {
   "cell_type": "code",
   "execution_count": 13,
   "id": "15ae609c-d933-418e-b85f-249e7ed44e97",
   "metadata": {},
   "outputs": [],
   "source": [
    "# Convert the \"Year\" column from a float to an integer\n",
    "df_cleaned['Year'] = df_cleaned['Year'].astype('int64')"
   ]
  },
  {
   "cell_type": "code",
   "execution_count": 20,
   "id": "520afc10-06aa-4e7c-99db-415f411ed42e",
   "metadata": {},
   "outputs": [],
   "source": [
    "# Save the cleaned DataFrame to the processed data folder\n",
    "df_cleaned.to_csv('../data/processed/vgsales_cleaned.csv', index=False)"
   ]
  },
  {
   "cell_type": "code",
   "execution_count": 24,
   "id": "d54d5b36-5f4f-4188-8af1-58e0aea71745",
   "metadata": {},
   "outputs": [],
   "source": [
    "# Reload the processed data to ensure it works correctly\n",
    "df_processed = pd.read_csv('../data/processed/vgsales_cleaned.csv')"
   ]
  },
  {
   "cell_type": "code",
   "execution_count": 25,
   "id": "cce3216b-4798-463b-a2a6-2c664cc8c18f",
   "metadata": {},
   "outputs": [
    {
     "name": "stdout",
     "output_type": "stream",
     "text": [
      "<class 'pandas.core.frame.DataFrame'>\n",
      "RangeIndex: 16291 entries, 0 to 16290\n",
      "Data columns (total 11 columns):\n",
      " #   Column        Non-Null Count  Dtype  \n",
      "---  ------        --------------  -----  \n",
      " 0   Rank          16291 non-null  int64  \n",
      " 1   Name          16291 non-null  object \n",
      " 2   Platform      16291 non-null  object \n",
      " 3   Year          16291 non-null  int64  \n",
      " 4   Genre         16291 non-null  object \n",
      " 5   Publisher     16291 non-null  object \n",
      " 6   NA_Sales      16291 non-null  float64\n",
      " 7   EU_Sales      16291 non-null  float64\n",
      " 8   JP_Sales      16291 non-null  float64\n",
      " 9   Other_Sales   16291 non-null  float64\n",
      " 10  Global_Sales  16291 non-null  float64\n",
      "dtypes: float64(5), int64(2), object(4)\n",
      "memory usage: 1.4+ MB\n"
     ]
    }
   ],
   "source": [
    "# Show the information of the cleaned DataFrame\n",
    "df_processed.info()"
   ]
  },
  {
   "cell_type": "markdown",
   "id": "482ed65f-a797-4811-bec5-ebb199c248da",
   "metadata": {},
   "source": [
    "## 2. Data Cleaning and Preprocessing\n",
    "\n",
    "Based on our initial inspection, we identified two main issues:\n",
    "1.  The `Year` and `Publisher` columns had a small number of missing values.\n",
    "2.  The `Year` column was incorrectly stored as a `float` data type.\n",
    "\n",
    "To address these issues, we took the following steps:\n",
    "-   Removed rows with missing values in `Year` and `Publisher`.\n",
    "-   Converted the `Year` column to an integer data type to ensure it is in the correct format for future analysis.\n",
    "\n",
    "Our cleaned DataFrame, `df_processed`, now has no missing values and the correct data types."
   ]
  },
  {
   "cell_type": "markdown",
   "id": "7c607754-f7a9-410b-8254-5ed51dc70b60",
   "metadata": {},
   "source": [
    "## 3. Exploratory Data Analysis (EDA)\n",
    "With our data now clean and ready, we can begin to explore it for interesting trends and insights. In this section, we will use descriptive statistics and basic analysis to understand key aspects of the video game market."
   ]
  },
  {
   "cell_type": "code",
   "execution_count": 26,
   "id": "a70403d4-1f02-4561-9a66-53c588cf0499",
   "metadata": {},
   "outputs": [
    {
     "name": "stdout",
     "output_type": "stream",
     "text": [
      "Most Popular Genres:\n",
      " Genre\n",
      "Action          3251\n",
      "Sports          2304\n",
      "Misc            1686\n",
      "Role-Playing    1470\n",
      "Shooter         1282\n",
      "Name: count, dtype: int64\n"
     ]
    }
   ],
   "source": [
    "# What are the most popular video game genres?\n",
    "print(\"Most Popular Genres:\\n\", df_processed['Genre'].value_counts().head(5))"
   ]
  },
  {
   "cell_type": "code",
   "execution_count": 27,
   "id": "1cf50ed9-cca5-4136-b8e6-a80318666621",
   "metadata": {},
   "outputs": [
    {
     "name": "stdout",
     "output_type": "stream",
     "text": [
      "Most Popular Platforms:\n",
      " Platform\n",
      "DS      2131\n",
      "PS2     2127\n",
      "PS3     1304\n",
      "Wii     1290\n",
      "X360    1234\n",
      "Name: count, dtype: int64\n"
     ]
    }
   ],
   "source": [
    "# What are the most popular platforms?\n",
    "print(\"Most Popular Platforms:\\n\", df_processed['Platform'].value_counts().head(5))"
   ]
  },
  {
   "cell_type": "code",
   "execution_count": 28,
   "id": "f1d2141c-52bd-47b0-9560-272aa2d71368",
   "metadata": {},
   "outputs": [
    {
     "name": "stdout",
     "output_type": "stream",
     "text": [
      "Descriptive Statistics for Sales:\n",
      "           NA_Sales      EU_Sales      JP_Sales  Global_Sales\n",
      "count  16291.000000  16291.000000  16291.000000  16291.000000\n",
      "mean       0.265647      0.147731      0.078833      0.540910\n",
      "std        0.822432      0.509303      0.311879      1.567345\n",
      "min        0.000000      0.000000      0.000000      0.010000\n",
      "25%        0.000000      0.000000      0.000000      0.060000\n",
      "50%        0.080000      0.020000      0.000000      0.170000\n",
      "75%        0.240000      0.110000      0.040000      0.480000\n",
      "max       41.490000     29.020000     10.220000     82.740000\n"
     ]
    }
   ],
   "source": [
    "# Get descriptive statistics for the sales columns\n",
    "print(\"Descriptive Statistics for Sales:\")\n",
    "print(df_processed[['NA_Sales', 'EU_Sales', 'JP_Sales', 'Global_Sales']].describe())"
   ]
  },
  {
   "cell_type": "code",
   "execution_count": 29,
   "id": "56104ab0-56a6-4ec3-9627-3d81a2596f52",
   "metadata": {},
   "outputs": [
    {
     "data": {
      "image/png": "[encoded data removed]",
      "text/plain": [
       "<Figure size 1500x600 with 2 Axes>"
      ]
     },
     "metadata": {},
     "output_type": "display_data"
    },
    {
     "data": {
      "image/png": "[encoded data removed]",
      "text/plain": [
       "<Figure size 1000x600 with 1 Axes>"
      ]
     },
     "metadata": {},
     "output_type": "display_data"
    }
   ],
   "source": [
    "import matplotlib.pyplot as plt\n",
    "import seaborn as sns\n",
    "\n",
    "# Set a style for the plots\n",
    "sns.set_style(\"whitegrid\")\n",
    "\n",
    "# Create a figure with two subplots\n",
    "fig, axes = plt.subplots(1, 2, figsize=(15, 6))\n",
    "\n",
    "# Plot 1: Top 10 Genres\n",
    "top_genres = df_processed['Genre'].value_counts().head(10)\n",
    "sns.barplot(x=top_genres.index, y=top_genres.values, ax=axes[0])\n",
    "axes[0].set_title('Top 10 Most Popular Game Genres')\n",
    "axes[0].set_xlabel('Genre')\n",
    "axes[0].set_ylabel('Number of Games')\n",
    "axes[0].tick_params(axis='x', rotation=45)\n",
    "\n",
    "# Plot 2: Top 10 Platforms\n",
    "top_platforms = df_processed['Platform'].value_counts().head(10)\n",
    "sns.barplot(x=top_platforms.index, y=top_platforms.values, ax=axes[1])\n",
    "axes[1].set_title('Top 10 Most Popular Platforms')\n",
    "axes[1].set_xlabel('Platform')\n",
    "axes[1].set_ylabel('Number of Games')\n",
    "axes[1].tick_params(axis='x', rotation=45)\n",
    "\n",
    "plt.tight_layout()\n",
    "plt.show()\n",
    "\n",
    "# Create a histogram for Global Sales to visualize the distribution\n",
    "plt.figure(figsize=(10, 6))\n",
    "sns.histplot(df_processed['Global_Sales'], bins=50, kde=True)\n",
    "plt.title('Distribution of Global Sales')\n",
    "plt.xlabel('Global Sales (in millions)')\n",
    "plt.ylabel('Number of Games')\n",
    "plt.show()"
   ]
  },
  {
   "cell_type": "markdown",
   "id": "ce5eb666-a80b-4a78-a5c6-1f9f8a37d92e",
   "metadata": {},
   "source": [
    "## 4. Conclusion\n",
    "\n",
    "This exploratory analysis of the video game sales dataset has revealed several key characteristics of the market. Our findings indicate a highly concentrated industry where success is dominated by a select few. Both the **Action** and **Sports** genres and the **DS** and **PS2** platforms lead in the number of games produced. Crucially, the sales data is heavily skewed: while the majority of games sell very few copies, a small number of blockbuster titles generate a disproportionately large share of global sales. This suggests that the market is driven by major hit releases rather than a broad base of consistent performers. Further analysis could investigate the relationship between a game's rating, publisher, and its potential to become one of these top-selling blockbusters."
   ]
  },
  {
   "cell_type": "code",
   "execution_count": null,
   "id": "ff954791-5473-4a3a-958d-ed588d04596d",
   "metadata": {},
   "outputs": [],
   "source": []
  }
 ],
 "metadata": {
  "kernelspec": {
   "display_name": "Python 3 (ipykernel)",
   "language": "python",
   "name": "python3"
  },
  "language_info": {
   "codemirror_mode": {
    "name": "ipython",
    "version": 3
   },
   "file_extension": ".py",
   "mimetype": "text/x-python",
   "name": "python",
   "nbconvert_exporter": "python",
   "pygments_lexer": "ipython3",
   "version": "3.12.3"
  }
 },
 "nbformat": 4,
 "nbformat_minor": 5
}
